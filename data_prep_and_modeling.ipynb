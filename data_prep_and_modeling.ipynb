{
 "cells": [
  {
   "cell_type": "code",
   "execution_count": null,
   "metadata": {},
   "outputs": [],
   "source": [
    "import pandas as pd\n",
    "from collections import Counter\n",
    "import pandas as pd\n",
    "import os \n",
    "import re\n",
    "import matplotlib.pyplot as plt\n",
    "from langchain_openai import AzureChatOpenAI\n",
    "from sklearn.model_selection import train_test_split"
   ]
  },
  {
   "cell_type": "code",
   "execution_count": 127,
   "metadata": {},
   "outputs": [
    {
     "name": "stderr",
     "output_type": "stream",
     "text": [
      "/var/folders/7m/q2yh5j193c5gf7sd2zd1g8pm0000gn/T/ipykernel_42804/43399676.py:1: DtypeWarning: Columns (10,17,18,19,20,21,24) have mixed types. Specify dtype option on import or set low_memory=False.\n",
      "  dataset_original = pd.read_csv('Shark_data.csv', index_col=0)\n"
     ]
    }
   ],
   "source": [
    "dataset_original = pd.read_csv('Shark_data.csv', index_col=0)"
   ]
  },
  {
   "cell_type": "code",
   "execution_count": 410,
   "metadata": {},
   "outputs": [],
   "source": [
    "dataset = dataset_original.copy()"
   ]
  },
  {
   "cell_type": "code",
   "execution_count": 413,
   "metadata": {},
   "outputs": [],
   "source": [
    "def apply_and_count(dataset, func, *args, **kwargs):\n",
    "    \"\"\"\n",
    "    Applies a function to the dataset and returns the number of deleted samples.\n",
    "    \n",
    "    Parameters:\n",
    "    dataset (pd.DataFrame): The input DataFrame.\n",
    "    func (function): The function to apply to the DataFrame.\n",
    "    *args: Positional arguments to pass to the function.\n",
    "    **kwargs: Keyword arguments to pass to the function.\n",
    "    \n",
    "    Returns:\n",
    "    int: The number of samples deleted.\n",
    "    \"\"\"\n",
    "    # Get the number of rows before applying the function\n",
    "    initial_count = len(dataset)\n",
    "    \n",
    "    # Apply the function to the dataset\n",
    "    func(dataset, *args, **kwargs)\n",
    "    \n",
    "    # Get the number of rows after applying the function\n",
    "    final_count = len(dataset)\n",
    "    \n",
    "    # Calculate the number of deleted samples\n",
    "    deleted_samples = initial_count - final_count\n",
    "    \n",
    "    print(f\"Number of samples deleted: {deleted_samples}\")"
   ]
  },
  {
   "cell_type": "code",
   "execution_count": 414,
   "metadata": {},
   "outputs": [
    {
     "name": "stdout",
     "output_type": "stream",
     "text": [
      "Number of samples deleted: 2\n"
     ]
    }
   ],
   "source": [
    "apply_and_count(dataset, pd.DataFrame.drop_duplicates, inplace=True)"
   ]
  },
  {
   "cell_type": "code",
   "execution_count": 415,
   "metadata": {},
   "outputs": [
    {
     "data": {
      "text/plain": [
       "Index(['Case Number', 'Date', 'Year', 'Type', 'Country', 'Area', 'Location',\n",
       "       'Activity', 'Name', 'Unnamed: 9',\n",
       "       ...\n",
       "       'Unnamed: 246', 'Unnamed: 247', 'Unnamed: 248', 'Unnamed: 249',\n",
       "       'Unnamed: 250', 'Unnamed: 251', 'Unnamed: 252', 'Unnamed: 253',\n",
       "       'Unnamed: 254', 'Unnamed: 255'],\n",
       "      dtype='object', length=256)"
      ]
     },
     "execution_count": 415,
     "metadata": {},
     "output_type": "execute_result"
    }
   ],
   "source": [
    "dataset.columns"
   ]
  },
  {
   "cell_type": "code",
   "execution_count": 416,
   "metadata": {},
   "outputs": [
    {
     "name": "stdout",
     "output_type": "stream",
     "text": [
      "Case Number     6458\n",
      "Date            6459\n",
      "Year            6457\n",
      "Type            6455\n",
      "Country         6409\n",
      "                ... \n",
      "Unnamed: 251       0\n",
      "Unnamed: 252       0\n",
      "Unnamed: 253       0\n",
      "Unnamed: 254       0\n",
      "Unnamed: 255       0\n",
      "Length: 256, dtype: int64\n"
     ]
    }
   ],
   "source": [
    "non_null_counts = dataset.count()\n",
    "print(non_null_counts)"
   ]
  },
  {
   "cell_type": "code",
   "execution_count": 417,
   "metadata": {},
   "outputs": [
    {
     "name": "stdout",
     "output_type": "stream",
     "text": [
      "Index(['Unnamed: 22', 'Unnamed: 24', 'Unnamed: 25', 'Unnamed: 26',\n",
      "       'Unnamed: 27', 'Unnamed: 28', 'Unnamed: 29', 'Unnamed: 30',\n",
      "       'Unnamed: 31', 'Unnamed: 32',\n",
      "       ...\n",
      "       'Unnamed: 246', 'Unnamed: 247', 'Unnamed: 248', 'Unnamed: 249',\n",
      "       'Unnamed: 250', 'Unnamed: 251', 'Unnamed: 252', 'Unnamed: 253',\n",
      "       'Unnamed: 254', 'Unnamed: 255'],\n",
      "      dtype='object', length=233)\n"
     ]
    }
   ],
   "source": [
    "zero_non_null_columns = dataset.columns[dataset.count() == 0]\n",
    "print(zero_non_null_columns)"
   ]
  },
  {
   "cell_type": "code",
   "execution_count": 418,
   "metadata": {},
   "outputs": [],
   "source": [
    "dataset.drop(zero_non_null_columns, axis=1, inplace=True)"
   ]
  },
  {
   "cell_type": "code",
   "execution_count": 419,
   "metadata": {},
   "outputs": [
    {
     "name": "stdout",
     "output_type": "stream",
     "text": [
      "Case Number               6458\n",
      "Date                      6459\n",
      "Year                      6457\n",
      "Type                      6455\n",
      "Country                   6409\n",
      "Area                      5997\n",
      "Location                  5915\n",
      "Activity                  5908\n",
      "Name                      6245\n",
      "Unnamed: 9                  28\n",
      "Age                       3589\n",
      "Injury                    6431\n",
      "Fatal (Y/N)               5913\n",
      "Time                      3068\n",
      "Species                   3537\n",
      "Investigator or Source    6441\n",
      "pdf                       3066\n",
      "href formula              3062\n",
      "href                      3062\n",
      "Case Number.1             3062\n",
      "Case Number.2             3062\n",
      "original order            3062\n",
      "Unnamed: 23                  2\n",
      "dtype: int64\n"
     ]
    }
   ],
   "source": [
    "non_null_counts = dataset.count()\n",
    "print(non_null_counts)"
   ]
  },
  {
   "cell_type": "code",
   "execution_count": 420,
   "metadata": {},
   "outputs": [
    {
     "name": "stdout",
     "output_type": "stream",
     "text": [
      "Number of samples deleted: 0\n"
     ]
    }
   ],
   "source": [
    "#Remove data that has more than 30% missing values\n",
    "threshold = len(dataset) * 0.8\n",
    "\n",
    "apply_and_count(dataset, pd.DataFrame.dropna, axis=1, thresh=threshold, inplace=True)"
   ]
  },
  {
   "cell_type": "code",
   "execution_count": 421,
   "metadata": {},
   "outputs": [
    {
     "data": {
      "text/plain": [
       "Case Number               6458\n",
       "Date                      6459\n",
       "Year                      6457\n",
       "Type                      6455\n",
       "Country                   6409\n",
       "Area                      5997\n",
       "Location                  5915\n",
       "Activity                  5908\n",
       "Name                      6245\n",
       "Injury                    6431\n",
       "Fatal (Y/N)               5913\n",
       "Investigator or Source    6441\n",
       "dtype: int64"
      ]
     },
     "execution_count": 421,
     "metadata": {},
     "output_type": "execute_result"
    }
   ],
   "source": [
    "dataset.count()"
   ]
  },
  {
   "cell_type": "code",
   "execution_count": 422,
   "metadata": {},
   "outputs": [],
   "source": [
    "dataset.drop(columns=['Investigator or Source', 'Case Number'], inplace=True)"
   ]
  },
  {
   "cell_type": "markdown",
   "metadata": {},
   "source": [
    "Data on beach related activites for specific areas are not reported at area level. ChatGPT gives erroneous results for Florida for instance, where it says more surfers got there in August than January, which is the peak season. Will drop Area as not significant exposure data can be collected for it."
   ]
  },
  {
   "cell_type": "code",
   "execution_count": 423,
   "metadata": {},
   "outputs": [],
   "source": [
    "dataset.drop(columns=['Area'], inplace=True)"
   ]
  },
  {
   "cell_type": "code",
   "execution_count": 424,
   "metadata": {},
   "outputs": [
    {
     "name": "stdout",
     "output_type": "stream",
     "text": [
      "[('beach', 1612), ('county', 1533), ('island', 638), ('bay', 514), ('of', 341), ('volusia', 323), ('off', 319), ('river', 265), ('near', 260), ('new', 259), ('smyrna', 221), ('miles', 195), ('point', 191), ('port', 179), ('st', 173), ('the', 168), ('s', 168), ('north', 164), ('palm', 146), ('san', 141)]\n"
     ]
    }
   ],
   "source": [
    "text_data = dataset['Location'].dropna()\n",
    "\n",
    "# Combine all text into a single string\n",
    "all_text = ' '.join(text_data)\n",
    "\n",
    "# Remove punctuation and split into words\n",
    "words = re.findall(r'\\b\\w+\\b', all_text.lower())\n",
    "\n",
    "# Count the frequency of each word\n",
    "word_counts = Counter(words)\n",
    "\n",
    "# Get the most common words\n",
    "most_common_words = word_counts.most_common(20)  # Change the number to get more or fewer words\n",
    "\n",
    "print(most_common_words)"
   ]
  },
  {
   "cell_type": "markdown",
   "metadata": {},
   "source": [
    "Can't infer whether the attack occured far out in the sea, near the beach etc. It's mostly names of location for which we can not gather exposure data, will remove as well."
   ]
  },
  {
   "cell_type": "code",
   "execution_count": 425,
   "metadata": {},
   "outputs": [],
   "source": [
    "dataset.drop(columns=['Location'], inplace=True)"
   ]
  },
  {
   "cell_type": "code",
   "execution_count": 426,
   "metadata": {},
   "outputs": [
    {
     "data": {
      "image/png": "[encoded data removed]",
      "text/plain": [
       "<Figure size 800x800 with 1 Axes>"
      ]
     },
     "metadata": {},
     "output_type": "display_data"
    }
   ],
   "source": [
    "column_data = dataset['Country'].value_counts()\n",
    "\n",
    "# Plotting the pie chart\n",
    "plt.figure(figsize=(8, 8))\n",
    "plt.pie(column_data, labels=column_data.index, autopct='%1.1f%%', startangle=140)\n",
    "plt.title('Pie Chart Distribution of column_name')\n",
    "plt.show()"
   ]
  },
  {
   "cell_type": "code",
   "execution_count": 427,
   "metadata": {},
   "outputs": [],
   "source": [
    "# Data is very skewed, will remove rare occurences"
   ]
  },
  {
   "cell_type": "code",
   "execution_count": 428,
   "metadata": {},
   "outputs": [
    {
     "data": {
      "text/plain": [
       "Country\n",
       "USA                       2308\n",
       "AUSTRALIA                 1374\n",
       "SOUTH AFRICA               585\n",
       "NEW ZEALAND                135\n",
       "PAPUA NEW GUINEA           135\n",
       "                          ... \n",
       "MALDIVE ISLANDS              1\n",
       "NORTH SEA                    1\n",
       "RED SEA / INDIAN OCEAN       1\n",
       "BRITISH WEST INDIES          1\n",
       "CEYLON (SRI LANKA)           1\n",
       "Name: count, Length: 205, dtype: int64"
      ]
     },
     "execution_count": 428,
     "metadata": {},
     "output_type": "execute_result"
    }
   ],
   "source": [
    "dataset[\"Country\"].value_counts()"
   ]
  },
  {
   "cell_type": "code",
   "execution_count": 429,
   "metadata": {},
   "outputs": [],
   "source": [
    "country_counts = dataset['Country'].value_counts()\n",
    "less_than_10 = country_counts[country_counts < 10]"
   ]
  },
  {
   "cell_type": "code",
   "execution_count": 430,
   "metadata": {},
   "outputs": [
    {
     "name": "stdout",
     "output_type": "stream",
     "text": [
      "Percentage of samples for countries with less than 10 samples: 6.92%\n"
     ]
    }
   ],
   "source": [
    "print(f\"Percentage of samples for countries with less than 10 samples: {less_than_10.sum() / len(dataset) * 100:.2f}%\")"
   ]
  },
  {
   "cell_type": "code",
   "execution_count": 431,
   "metadata": {},
   "outputs": [],
   "source": [
    "dataset = dataset[~dataset['Country'].isin(less_than_10.index)]"
   ]
  },
  {
   "cell_type": "code",
   "execution_count": 432,
   "metadata": {},
   "outputs": [
    {
     "data": {
      "text/plain": [
       "(6013, 8)"
      ]
     },
     "execution_count": 432,
     "metadata": {},
     "output_type": "execute_result"
    }
   ],
   "source": [
    "dataset.shape"
   ]
  },
  {
   "cell_type": "code",
   "execution_count": 433,
   "metadata": {},
   "outputs": [
    {
     "data": {
      "text/plain": [
       "Date           6012\n",
       "Year           6010\n",
       "Type           6010\n",
       "Country        5962\n",
       "Activity       5499\n",
       "Name           5830\n",
       "Injury         5987\n",
       "Fatal (Y/N)    5510\n",
       "dtype: int64"
      ]
     },
     "execution_count": 433,
     "metadata": {},
     "output_type": "execute_result"
    }
   ],
   "source": [
    "dataset.count()"
   ]
  },
  {
   "cell_type": "code",
   "execution_count": 434,
   "metadata": {},
   "outputs": [
    {
     "data": {
      "text/plain": [
       "index\n",
       "0                05-Feb-2020\n",
       "1       Reported 30-Jan-2020\n",
       "2                17-Jan-2020\n",
       "3                16-Jan-2020\n",
       "4                13-Jan-2020\n",
       "                ...         \n",
       "6456             Before 1906\n",
       "6457             Before 1903\n",
       "6458             Before 1903\n",
       "6459               1900-1905\n",
       "6460               1883-1889\n",
       "Name: Date, Length: 6013, dtype: object"
      ]
     },
     "execution_count": 434,
     "metadata": {},
     "output_type": "execute_result"
    }
   ],
   "source": [
    "dataset[\"Date\"]"
   ]
  },
  {
   "cell_type": "code",
   "execution_count": 435,
   "metadata": {},
   "outputs": [
    {
     "data": {
      "text/plain": [
       "index\n",
       "0       2020.0\n",
       "1       2020.0\n",
       "2       2020.0\n",
       "3       2020.0\n",
       "4       2020.0\n",
       "         ...  \n",
       "6456       0.0\n",
       "6457       0.0\n",
       "6458       0.0\n",
       "6459       0.0\n",
       "6460       0.0\n",
       "Name: Year, Length: 6013, dtype: float64"
      ]
     },
     "execution_count": 435,
     "metadata": {},
     "output_type": "execute_result"
    }
   ],
   "source": [
    "dataset['Year']"
   ]
  },
  {
   "cell_type": "markdown",
   "metadata": {},
   "source": [
    "I want to aggregate the data per month, so the outliers that do not contain the months can be discarded since I can not make an educated inference on the month when it occured."
   ]
  },
  {
   "cell_type": "code",
   "execution_count": 436,
   "metadata": {},
   "outputs": [],
   "source": [
    "dataset = dataset.dropna(subset=['Date'])"
   ]
  },
  {
   "cell_type": "code",
   "execution_count": 437,
   "metadata": {},
   "outputs": [
    {
     "name": "stderr",
     "output_type": "stream",
     "text": [
      "/var/folders/7m/q2yh5j193c5gf7sd2zd1g8pm0000gn/T/ipykernel_42804/3835995700.py:4: UserWarning: This pattern is interpreted as a regular expression, and has match groups. To actually get the groups, use str.extract.\n",
      "  matching_rows = dataset[dataset['Date'].str.contains(pattern, regex=True)]\n"
     ]
    }
   ],
   "source": [
    "pattern = r'([A-Za-z]{3}-\\d{4})'\n",
    "\n",
    "# Extract rows where the date_column matches the pattern\n",
    "matching_rows = dataset[dataset['Date'].str.contains(pattern, regex=True)]\n"
   ]
  },
  {
   "cell_type": "code",
   "execution_count": 438,
   "metadata": {},
   "outputs": [
    {
     "name": "stdout",
     "output_type": "stream",
     "text": [
      "5520\n"
     ]
    }
   ],
   "source": [
    "print(len(matching_rows))"
   ]
  },
  {
   "cell_type": "code",
   "execution_count": 439,
   "metadata": {},
   "outputs": [],
   "source": [
    "# Extract the matching pattern into a new column\n",
    "dataset['extracted_date'] = dataset['Date'].str.extract(pattern)"
   ]
  },
  {
   "cell_type": "code",
   "execution_count": 440,
   "metadata": {},
   "outputs": [
    {
     "name": "stdout",
     "output_type": "stream",
     "text": [
      "Number of samples deleted: 492\n"
     ]
    }
   ],
   "source": [
    "init = len(dataset)\n",
    "dataset.dropna(subset=['extracted_date'], inplace=True)\n",
    "print(f\"Number of samples deleted: {init - len(dataset)}\")"
   ]
  },
  {
   "cell_type": "code",
   "execution_count": 441,
   "metadata": {},
   "outputs": [],
   "source": [
    "dataset[['Month', 'Year']] = dataset['extracted_date'].str.split('-', expand=True)"
   ]
  },
  {
   "cell_type": "code",
   "execution_count": 442,
   "metadata": {},
   "outputs": [
    {
     "data": {
      "text/plain": [
       "Month\n",
       "Jul    652\n",
       "Aug    572\n",
       "Sep    513\n",
       "Jan    508\n",
       "Jun    471\n",
       "Apr    435\n",
       "Oct    435\n",
       "Dec    424\n",
       "Nov    395\n",
       "Mar    391\n",
       "Feb    374\n",
       "May    341\n",
       "uly      4\n",
       "ept      2\n",
       "mer      1\n",
       "rch      1\n",
       "mid      1\n",
       "Name: count, dtype: int64"
      ]
     },
     "execution_count": 442,
     "metadata": {},
     "output_type": "execute_result"
    }
   ],
   "source": [
    "dataset['Month'].value_counts()"
   ]
  },
  {
   "cell_type": "code",
   "execution_count": 443,
   "metadata": {},
   "outputs": [],
   "source": [
    "# Define the replacements as a dictionary\n",
    "replacements = {\n",
    "    'uly': 'Jul',\n",
    "    'ept': 'Sep', \n",
    "}\n",
    "\n",
    "# Replace the values in the 'Month' column\n",
    "dataset['Month'] = dataset['Month'].replace(replacements)"
   ]
  },
  {
   "cell_type": "code",
   "execution_count": 444,
   "metadata": {},
   "outputs": [],
   "source": [
    "dataset = dataset[~dataset['Month'].isin([['mer', 'mid']])]"
   ]
  },
  {
   "cell_type": "code",
   "execution_count": 445,
   "metadata": {},
   "outputs": [],
   "source": [
    "dataset.drop(columns=['Date', 'extracted_date'], inplace=True)"
   ]
  },
  {
   "cell_type": "code",
   "execution_count": 446,
   "metadata": {},
   "outputs": [],
   "source": [
    "dataset.drop(columns=['Name'], inplace=True)"
   ]
  },
  {
   "cell_type": "code",
   "execution_count": 447,
   "metadata": {},
   "outputs": [
    {
     "data": {
      "text/plain": [
       "(5520, 7)"
      ]
     },
     "execution_count": 447,
     "metadata": {},
     "output_type": "execute_result"
    }
   ],
   "source": [
    "dataset.shape"
   ]
  },
  {
   "cell_type": "code",
   "execution_count": 448,
   "metadata": {},
   "outputs": [
    {
     "data": {
      "text/plain": [
       "Year           5520\n",
       "Type           5518\n",
       "Country        5482\n",
       "Activity       5108\n",
       "Injury         5503\n",
       "Fatal (Y/N)    5058\n",
       "Month          5520\n",
       "dtype: int64"
      ]
     },
     "execution_count": 448,
     "metadata": {},
     "output_type": "execute_result"
    }
   ],
   "source": [
    "dataset.count()"
   ]
  },
  {
   "cell_type": "markdown",
   "metadata": {},
   "source": [
    "Due to time constraints I'll just drop all missing values "
   ]
  },
  {
   "cell_type": "code",
   "execution_count": 449,
   "metadata": {},
   "outputs": [],
   "source": [
    "dataset.dropna(inplace=True)"
   ]
  },
  {
   "cell_type": "code",
   "execution_count": 450,
   "metadata": {},
   "outputs": [
    {
     "data": {
      "text/plain": [
       "Activity\n",
       "Surfing            949\n",
       "Swimming           731\n",
       "Fishing            366\n",
       "Spearfishing       279\n",
       "Wading             137\n",
       "Bathing            124\n",
       "Standing            93\n",
       "Snorkeling          81\n",
       "Diving              80\n",
       "Body boarding       62\n",
       "Scuba diving        58\n",
       "Body surfing        46\n",
       "Kayaking            33\n",
       "Boogie boarding     31\n",
       "Treading water      28\n",
       "Pearl diving        23\n",
       "Free diving         23\n",
       "Surf skiing         19\n",
       "Fell overboard      19\n",
       "Boogie Boarding     17\n",
       "Name: count, dtype: int64"
      ]
     },
     "execution_count": 450,
     "metadata": {},
     "output_type": "execute_result"
    }
   ],
   "source": [
    "dataset[\"Activity\"].value_counts()[:20]"
   ]
  },
  {
   "cell_type": "code",
   "execution_count": 451,
   "metadata": {},
   "outputs": [],
   "source": [
    "# Categories to be made: Swimming, Fishing, Diving, Surfing, Other\n",
    "categories = {\n",
    "    \"Swimming\": [\"swim\", \"bath\", \"float\", \"wad\", \"play\"],\n",
    "    \"Fishing\": [\"fish\", \"catch\", \"spear\", \"net\", \"crab\"],\n",
    "    \"Diving\": [\"dive\", \"snorkel\", \"scuba\", \"free\"],\n",
    "}\n",
    "\n",
    "def categorize_element(element, categories, default=\"Other\"):\n",
    "    for category, keywords in categories.items():\n",
    "        for keyword in keywords:\n",
    "            if keyword in element.lower():\n",
    "                return category\n",
    "    return default\n",
    "\n",
    "dataset['Activity_new'] = dataset['Activity'].apply(categorize_element, categories=categories)"
   ]
  },
  {
   "cell_type": "code",
   "execution_count": 452,
   "metadata": {},
   "outputs": [],
   "source": [
    "dataset_checkpoint = dataset.copy()"
   ]
  },
  {
   "cell_type": "code",
   "execution_count": 454,
   "metadata": {},
   "outputs": [
    {
     "data": {
      "text/plain": [
       "Activity_new\n",
       "Other       2208\n",
       "Swimming    1277\n",
       "Fishing      988\n",
       "Diving       242\n",
       "Name: count, dtype: int64"
      ]
     },
     "execution_count": 454,
     "metadata": {},
     "output_type": "execute_result"
    }
   ],
   "source": [
    "dataset['Activity_new'].value_counts()"
   ]
  },
  {
   "cell_type": "code",
   "execution_count": 455,
   "metadata": {},
   "outputs": [
    {
     "data": {
      "text/plain": [
       "Injury\n",
       "FATAL                          532\n",
       "Foot bitten                     80\n",
       "Leg bitten                      59\n",
       "Left foot bitten                50\n",
       "No injury                       49\n",
       "Survived                        47\n",
       "Right foot bitten               35\n",
       "No injury, board bitten         31\n",
       "Lacerations to foot             25\n",
       "Hand bitten                     24\n",
       "Foot lacerated                  20\n",
       "Lacerations to left foot        20\n",
       "Lacerations to right foot       20\n",
       "Thigh bitten                    20\n",
       "Right leg bitten                19\n",
       "Arm bitten                      18\n",
       "FATAL, body not recovered       18\n",
       "Calf bitten                     17\n",
       "No injury, surfboard bitten     16\n",
       "Ankle bitten                    14\n",
       "Minor injury                    13\n",
       "Right thigh bitten              13\n",
       "Left arm bitten                 12\n",
       "Right calf bitten               12\n",
       "Lacerations to right hand       12\n",
       "Lacerations to right leg        11\n",
       "Leg injured                     11\n",
       "Heel bitten                     11\n",
       "Left foot lacerated             11\n",
       "Left leg bitten                 11\n",
       "Name: count, dtype: int64"
      ]
     },
     "execution_count": 455,
     "metadata": {},
     "output_type": "execute_result"
    }
   ],
   "source": [
    "dataset['Injury'].value_counts()[:30]"
   ]
  },
  {
   "cell_type": "code",
   "execution_count": 456,
   "metadata": {},
   "outputs": [],
   "source": [
    "injury_categories = {\n",
    "    \"Laceration\": [\"laceration\", \"cut\", \"bite\", \"tear\", \"wound\"],\n",
    "    \"Fatal\": [\"death\", \"fatal\"],\n",
    "    \"No injury\": [\"no injury\", \"unharmed\", \"uninjured\", \"no\"],\n",
    "}\n",
    "\n",
    "dataset['Injuries_new'] = dataset['Injury'].apply(categorize_element, categories=injury_categories, default=\"Other Inury\")"
   ]
  },
  {
   "cell_type": "code",
   "execution_count": 457,
   "metadata": {},
   "outputs": [
    {
     "data": {
      "text/plain": [
       "Injuries_new\n",
       "Other Inury    1989\n",
       "Laceration     1001\n",
       "Fatal           898\n",
       "No injury       827\n",
       "Name: count, dtype: int64"
      ]
     },
     "execution_count": 457,
     "metadata": {},
     "output_type": "execute_result"
    }
   ],
   "source": [
    "dataset['Injuries_new'].value_counts()"
   ]
  },
  {
   "cell_type": "code",
   "execution_count": 458,
   "metadata": {},
   "outputs": [
    {
     "data": {
      "text/plain": [
       "Fatal (Y/N)\n",
       "N          3726\n",
       "Y           970\n",
       "UNKNOWN      16\n",
       "F             1\n",
       "M             1\n",
       "2017          1\n",
       "Name: count, dtype: int64"
      ]
     },
     "execution_count": 458,
     "metadata": {},
     "output_type": "execute_result"
    }
   ],
   "source": [
    "dataset['Fatal (Y/N)'].value_counts()"
   ]
  },
  {
   "cell_type": "code",
   "execution_count": 459,
   "metadata": {},
   "outputs": [],
   "source": [
    "mask_fatal_injuries = dataset['Injuries_new'] == 'Fatal'\n",
    "mask_fatal_column = dataset['Fatal (Y/N)'] == 'Y'"
   ]
  },
  {
   "cell_type": "code",
   "execution_count": 460,
   "metadata": {},
   "outputs": [
    {
     "name": "stdout",
     "output_type": "stream",
     "text": [
      "Number of samples where both columns agree: 894\n"
     ]
    }
   ],
   "source": [
    "overlap_mask = mask_fatal_injuries & mask_fatal_column\n",
    "print(f\"Number of samples where both columns agree: {overlap_mask.sum()}\")"
   ]
  },
  {
   "cell_type": "markdown",
   "metadata": {},
   "source": [
    "This means that the fatal column does not add information"
   ]
  },
  {
   "cell_type": "code",
   "execution_count": 461,
   "metadata": {},
   "outputs": [],
   "source": [
    "dataset.drop(columns=['Injury', 'Fatal (Y/N)'], inplace=True)"
   ]
  },
  {
   "cell_type": "code",
   "execution_count": 462,
   "metadata": {},
   "outputs": [
    {
     "data": {
      "text/plain": [
       "Type\n",
       "Unprovoked             3783\n",
       "Provoked                486\n",
       "Sea Disaster            157\n",
       "Watercraft               88\n",
       "Boating                  86\n",
       "Boat                     81\n",
       "Invalid                  23\n",
       "Questionable              8\n",
       "Unverified                1\n",
       "Under investigation       1\n",
       "Boatomg                   1\n",
       "Name: count, dtype: int64"
      ]
     },
     "execution_count": 462,
     "metadata": {},
     "output_type": "execute_result"
    }
   ],
   "source": [
    "dataset['Type'].value_counts()"
   ]
  },
  {
   "cell_type": "code",
   "execution_count": 463,
   "metadata": {},
   "outputs": [],
   "source": [
    "# If the attack is not provoked, I will considered it unprovoked\n",
    "dataset['Type_new'] = dataset['Type'].apply(lambda x: x if x == 'Provoked' else 'Unprovoked')"
   ]
  },
  {
   "cell_type": "code",
   "execution_count": 464,
   "metadata": {},
   "outputs": [],
   "source": [
    "dataset.drop(columns=['Type'], inplace=True)"
   ]
  },
  {
   "cell_type": "code",
   "execution_count": 465,
   "metadata": {},
   "outputs": [
    {
     "data": {
      "text/plain": [
       "Index(['Year', 'Country', 'Activity', 'Month', 'Activity_new', 'Injuries_new',\n",
       "       'Type_new'],\n",
       "      dtype='object')"
      ]
     },
     "execution_count": 465,
     "metadata": {},
     "output_type": "execute_result"
    }
   ],
   "source": [
    "dataset.columns"
   ]
  },
  {
   "cell_type": "code",
   "execution_count": 466,
   "metadata": {},
   "outputs": [
    {
     "data": {
      "text/plain": [
       "index\n",
       "0       Feb\n",
       "1       Jan\n",
       "2       Jan\n",
       "3       Jan\n",
       "4       Jan\n",
       "       ... \n",
       "6391    May\n",
       "6406    Apr\n",
       "6448    Jul\n",
       "6449    Jul\n",
       "6450    Jul\n",
       "Name: Month, Length: 4715, dtype: object"
      ]
     },
     "execution_count": 466,
     "metadata": {},
     "output_type": "execute_result"
    }
   ],
   "source": [
    "dataset['Month']"
   ]
  },
  {
   "cell_type": "markdown",
   "metadata": {},
   "source": [
    "# Population Estimation and Exposure Metrics"
   ]
  },
  {
   "cell_type": "code",
   "execution_count": 573,
   "metadata": {},
   "outputs": [
    {
     "data": {
      "text/html": [
       "<div>\n",
       "<style scoped>\n",
       "    .dataframe tbody tr th:only-of-type {\n",
       "        vertical-align: middle;\n",
       "    }\n",
       "\n",
       "    .dataframe tbody tr th {\n",
       "        vertical-align: top;\n",
       "    }\n",
       "\n",
       "    .dataframe thead th {\n",
       "        text-align: right;\n",
       "    }\n",
       "</style>\n",
       "<table border=\"1\" class=\"dataframe\">\n",
       "  <thead>\n",
       "    <tr style=\"text-align: right;\">\n",
       "      <th></th>\n",
       "      <th>Country</th>\n",
       "      <th>Year</th>\n",
       "      <th>Month</th>\n",
       "      <th>Activity_new</th>\n",
       "      <th>Injuries_new</th>\n",
       "      <th>Type_new</th>\n",
       "      <th>occurence_per_month</th>\n",
       "    </tr>\n",
       "  </thead>\n",
       "  <tbody>\n",
       "    <tr>\n",
       "      <th>0</th>\n",
       "      <td>ATLANTIC OCEAN</td>\n",
       "      <td>1882</td>\n",
       "      <td>Jan</td>\n",
       "      <td>Other</td>\n",
       "      <td>Fatal</td>\n",
       "      <td>Unprovoked</td>\n",
       "      <td>1.0</td>\n",
       "    </tr>\n",
       "    <tr>\n",
       "      <th>1</th>\n",
       "      <td>ATLANTIC OCEAN</td>\n",
       "      <td>1885</td>\n",
       "      <td>Aug</td>\n",
       "      <td>Other</td>\n",
       "      <td>Fatal</td>\n",
       "      <td>Unprovoked</td>\n",
       "      <td>1.0</td>\n",
       "    </tr>\n",
       "    <tr>\n",
       "      <th>2</th>\n",
       "      <td>ATLANTIC OCEAN</td>\n",
       "      <td>1890</td>\n",
       "      <td>Oct</td>\n",
       "      <td>Other</td>\n",
       "      <td>Fatal</td>\n",
       "      <td>Unprovoked</td>\n",
       "      <td>1.0</td>\n",
       "    </tr>\n",
       "    <tr>\n",
       "      <th>3</th>\n",
       "      <td>ATLANTIC OCEAN</td>\n",
       "      <td>1892</td>\n",
       "      <td>Dec</td>\n",
       "      <td>Other</td>\n",
       "      <td>Fatal</td>\n",
       "      <td>Unprovoked</td>\n",
       "      <td>1.0</td>\n",
       "    </tr>\n",
       "    <tr>\n",
       "      <th>4</th>\n",
       "      <td>ATLANTIC OCEAN</td>\n",
       "      <td>1916</td>\n",
       "      <td>Jun</td>\n",
       "      <td>Other</td>\n",
       "      <td>Fatal</td>\n",
       "      <td>Unprovoked</td>\n",
       "      <td>1.0</td>\n",
       "    </tr>\n",
       "  </tbody>\n",
       "</table>\n",
       "</div>"
      ],
      "text/plain": [
       "          Country  Year Month Activity_new Injuries_new    Type_new  \\\n",
       "0  ATLANTIC OCEAN  1882   Jan        Other        Fatal  Unprovoked   \n",
       "1  ATLANTIC OCEAN  1885   Aug        Other        Fatal  Unprovoked   \n",
       "2  ATLANTIC OCEAN  1890   Oct        Other        Fatal  Unprovoked   \n",
       "3  ATLANTIC OCEAN  1892   Dec        Other        Fatal  Unprovoked   \n",
       "4  ATLANTIC OCEAN  1916   Jun        Other        Fatal  Unprovoked   \n",
       "\n",
       "   occurence_per_month  \n",
       "0                  1.0  \n",
       "1                  1.0  \n",
       "2                  1.0  \n",
       "3                  1.0  \n",
       "4                  1.0  "
      ]
     },
     "execution_count": 573,
     "metadata": {},
     "output_type": "execute_result"
    }
   ],
   "source": [
    "#Grouping per year for MongoDB\n",
    "grouped_year = dataset.groupby(['Country', 'Activity_new', 'Month', \"Year\", 'Injuries_new', 'Type_new']).size().reset_index(name='count')\n",
    "\n",
    "# Calculate the average number of samples per month by Country and Activity\n",
    "average_samples_year = grouped_year.groupby(['Country','Year', 'Month','Activity_new', 'Injuries_new', 'Type_new'])['count'].mean().reset_index(name='occurence_per_month')\n",
    "\n",
    "average_samples_year.head()"
   ]
  },
  {
   "cell_type": "code",
   "execution_count": 574,
   "metadata": {},
   "outputs": [],
   "source": [
    "average_samples_year.to_csv('shark_data_cleaned_with_year.csv')"
   ]
  },
  {
   "cell_type": "code",
   "execution_count": 467,
   "metadata": {},
   "outputs": [
    {
     "name": "stdout",
     "output_type": "stream",
     "text": [
      "             Country Month Activity_new Injuries_new    Type_new  \\\n",
      "0     ATLANTIC OCEAN   Aug        Other        Fatal  Unprovoked   \n",
      "1     ATLANTIC OCEAN   Dec        Other        Fatal  Unprovoked   \n",
      "2     ATLANTIC OCEAN   Dec        Other    No injury  Unprovoked   \n",
      "3     ATLANTIC OCEAN   Feb        Other    No injury  Unprovoked   \n",
      "4     ATLANTIC OCEAN   Jan        Other        Fatal  Unprovoked   \n",
      "...              ...   ...          ...          ...         ...   \n",
      "1496         VIETNAM   Jul     Swimming  Other Inury  Unprovoked   \n",
      "1497         VIETNAM   Jun      Fishing  Other Inury    Provoked   \n",
      "1498         VIETNAM   Jun     Swimming   Laceration  Unprovoked   \n",
      "1499         VIETNAM   May        Other   Laceration  Unprovoked   \n",
      "1500         VIETNAM   May     Swimming   Laceration  Unprovoked   \n",
      "\n",
      "      occurence_per_month  \n",
      "0                     1.0  \n",
      "1                     1.0  \n",
      "2                     1.0  \n",
      "3                     1.0  \n",
      "4                     1.0  \n",
      "...                   ...  \n",
      "1496                  1.0  \n",
      "1497                  1.0  \n",
      "1498                  1.0  \n",
      "1499                  1.0  \n",
      "1500                  1.0  \n",
      "\n",
      "[1501 rows x 6 columns]\n"
     ]
    }
   ],
   "source": [
    "grouped = dataset.groupby(['Country', 'Activity_new', 'Month', \"Year\", 'Injuries_new', 'Type_new']).size().reset_index(name='count')\n",
    "\n",
    "# Calculate the average number of samples per month by Country and Activity\n",
    "average_samples = grouped.groupby(['Country', 'Month','Activity_new', 'Injuries_new', 'Type_new'])['count'].mean().reset_index(name='occurence_per_month')\n",
    "\n",
    "# Display the result\n",
    "print(average_samples)"
   ]
  },
  {
   "cell_type": "markdown",
   "metadata": {},
   "source": [
    "If I am going to be interested in the probability of getting bitten if I go surfing in Australia for instance it would be very unlikley that I would be interested in seeing what the probability would be if I provoke or not "
   ]
  },
  {
   "cell_type": "code",
   "execution_count": 468,
   "metadata": {},
   "outputs": [
    {
     "name": "stdout",
     "output_type": "stream",
     "text": [
      "            Country Month Activity_new  average_samples_per_month\n",
      "0    ATLANTIC OCEAN   Aug        Other                       1.00\n",
      "1    ATLANTIC OCEAN   Dec        Other                       1.00\n",
      "2    ATLANTIC OCEAN   Feb        Other                       1.00\n",
      "3    ATLANTIC OCEAN   Jan        Other                       1.25\n",
      "4    ATLANTIC OCEAN   Jul        Other                       1.00\n",
      "..              ...   ...          ...                        ...\n",
      "757         VIETNAM   Jul     Swimming                       1.00\n",
      "758         VIETNAM   Jun      Fishing                       1.00\n",
      "759         VIETNAM   Jun     Swimming                       1.00\n",
      "760         VIETNAM   May        Other                       1.00\n",
      "761         VIETNAM   May     Swimming                       1.00\n",
      "\n",
      "[762 rows x 4 columns]\n"
     ]
    }
   ],
   "source": [
    "grouped_only_activ = dataset.groupby(['Country', 'Activity_new', 'Month', \"Year\"]).size().reset_index(name='count')\n",
    "\n",
    "# Calculate the average number of samples per month by Country and Activity\n",
    "average_samples_only_activ = grouped.groupby(['Country', 'Month','Activity_new'])['count'].mean().reset_index(name='average_samples_per_month')\n",
    "\n",
    "# Display the result\n",
    "print(average_samples_only_activ)"
   ]
  },
  {
   "cell_type": "code",
   "execution_count": 244,
   "metadata": {},
   "outputs": [
    {
     "data": {
      "text/html": [
       "<div>\n",
       "<style scoped>\n",
       "    .dataframe tbody tr th:only-of-type {\n",
       "        vertical-align: middle;\n",
       "    }\n",
       "\n",
       "    .dataframe tbody tr th {\n",
       "        vertical-align: top;\n",
       "    }\n",
       "\n",
       "    .dataframe thead th {\n",
       "        text-align: right;\n",
       "    }\n",
       "</style>\n",
       "<table border=\"1\" class=\"dataframe\">\n",
       "  <thead>\n",
       "    <tr style=\"text-align: right;\">\n",
       "      <th></th>\n",
       "      <th>Country</th>\n",
       "      <th>Month</th>\n",
       "      <th>Activity_new</th>\n",
       "      <th>average_samples_per_month</th>\n",
       "    </tr>\n",
       "  </thead>\n",
       "  <tbody>\n",
       "    <tr>\n",
       "      <th>0</th>\n",
       "      <td>ATLANTIC OCEAN</td>\n",
       "      <td>Aug</td>\n",
       "      <td>Other</td>\n",
       "      <td>1.00</td>\n",
       "    </tr>\n",
       "    <tr>\n",
       "      <th>1</th>\n",
       "      <td>ATLANTIC OCEAN</td>\n",
       "      <td>Dec</td>\n",
       "      <td>Other</td>\n",
       "      <td>1.00</td>\n",
       "    </tr>\n",
       "    <tr>\n",
       "      <th>2</th>\n",
       "      <td>ATLANTIC OCEAN</td>\n",
       "      <td>Feb</td>\n",
       "      <td>Other</td>\n",
       "      <td>1.00</td>\n",
       "    </tr>\n",
       "    <tr>\n",
       "      <th>3</th>\n",
       "      <td>ATLANTIC OCEAN</td>\n",
       "      <td>Jan</td>\n",
       "      <td>Other</td>\n",
       "      <td>1.25</td>\n",
       "    </tr>\n",
       "    <tr>\n",
       "      <th>4</th>\n",
       "      <td>ATLANTIC OCEAN</td>\n",
       "      <td>Jul</td>\n",
       "      <td>Other</td>\n",
       "      <td>1.00</td>\n",
       "    </tr>\n",
       "  </tbody>\n",
       "</table>\n",
       "</div>"
      ],
      "text/plain": [
       "          Country Month Activity_new  average_samples_per_month\n",
       "0  ATLANTIC OCEAN   Aug        Other                       1.00\n",
       "1  ATLANTIC OCEAN   Dec        Other                       1.00\n",
       "2  ATLANTIC OCEAN   Feb        Other                       1.00\n",
       "3  ATLANTIC OCEAN   Jan        Other                       1.25\n",
       "4  ATLANTIC OCEAN   Jul        Other                       1.00"
      ]
     },
     "execution_count": 244,
     "metadata": {},
     "output_type": "execute_result"
    }
   ],
   "source": [
    "average_samples_only_activ.head()"
   ]
  },
  {
   "cell_type": "code",
   "execution_count": 245,
   "metadata": {},
   "outputs": [
    {
     "data": {
      "text/plain": [
       "14"
      ]
     },
     "execution_count": 245,
     "metadata": {},
     "output_type": "execute_result"
    }
   ],
   "source": [
    "len(dataset[dataset[\"Country\"]==\"ATLANTIC OCEAN\"])"
   ]
  },
  {
   "cell_type": "code",
   "execution_count": null,
   "metadata": {},
   "outputs": [],
   "source": [
    "llm = AzureChatOpenAI(\n",
    "    api_version = \"2024-08-01-preview\",\n",
    "    api_key = \"***\",\n",
    "    azure_endpoint = \"***\",\n",
    "    temperature = 0.0,\n",
    "    model_name = \"gpt-4\"\n",
    ")\n"
   ]
  },
  {
   "cell_type": "code",
   "execution_count": 290,
   "metadata": {},
   "outputs": [],
   "source": [
    "template_prompt = \"\"\"Can you give me the number of people doing the following activity {activity} in the month of {month} in the following location {location}?\n",
    " If activity is Other, consider any type of nautical activity excluding swimming, diving or fishing.\n",
    "Please output just the number, if no number is found, make a guess and please output just the number, no justification needed. Take in account the population of the country.\n",
    " Please do not separate the numbers and output them as a single number.\"\"\""
   ]
  },
  {
   "cell_type": "code",
   "execution_count": 320,
   "metadata": {},
   "outputs": [],
   "source": [
    "import pickle\n",
    "exposure_metric = []\n",
    "\n",
    "def run_llm_for_index(index_start, index_end):\n",
    "    for index, row in average_samples_only_activ.iloc[index_start:index_end].iterrows():\n",
    "        prompt = template_prompt.format(activity=row['Activity_new'], month=row['Month'], location=row['Country'])\n",
    "        result = llm(prompt)\n",
    "        \n",
    "        number_of_people = int(result.content)\n",
    "        exposure_metric.append(number_of_people)\n",
    "        print(index)\n",
    "        if index % 10 == 0 or index == index_end-1:\n",
    "            print(f\"Processed {index} samples\")\n",
    "            print(f\"Number of people: {number_of_people} for activity {row['Activity_new']} in the month of {row['Month']} in the country {row['Country']}\")\n",
    "            with open(f\"inter_openai/exposure_metric_{index}.pkl\", \"wb\") as f:\n",
    "                pickle.dump(exposure_metric[-10:], f)"
   ]
  },
  {
   "cell_type": "code",
   "execution_count": null,
   "metadata": {},
   "outputs": [],
   "source": [
    "def read_pickle(file_path):\n",
    "        with open(file_path, 'rb') as f:\n",
    "            return pickle.load(f)\n",
    "\n",
    "def generate_combined_file(folder_name):\n",
    "    combined_list = []\n",
    "    # Iterate over all files in the folder\n",
    "    sorted_files = sorted(os.listdir(folder_name))\n",
    "    for filename in sorted_files:\n",
    "        if filename.endswith('.pkl'):\n",
    "            file_path = os.path.join(folder_name, filename)\n",
    "            # Load the contents of the pickle file\n",
    "            data = read_pickle(file_path)\n",
    "            \n",
    "            if len(data) != 10 and filename not in [sorted_files[0], sorted_files[-1]]: \n",
    "                #Could introduce a call here to the LLM\n",
    "                print(f\"Found a file with less than 10 elements: {filename}\")\n",
    "                index = int(filename.split('_')[-1].split('.')[0])\n",
    "                run_llm_for_index(index + 1, index + 11)\n",
    "                data = read_pickle(file_path)\n",
    "\n",
    "            combined_list.extend(data)\n",
    "    return combined_list\n"
   ]
  },
  {
   "cell_type": "code",
   "execution_count": 327,
   "metadata": {},
   "outputs": [],
   "source": [
    "combined_list = generate_combined_file(\"inter_openai\")"
   ]
  },
  {
   "cell_type": "code",
   "execution_count": 469,
   "metadata": {},
   "outputs": [],
   "source": [
    "average_samples_only_activ['participants'] = combined_list"
   ]
  },
  {
   "cell_type": "code",
   "execution_count": null,
   "metadata": {},
   "outputs": [],
   "source": [
    "# Merge the two datasets and broadcast participants to the dataset\n",
    "dataset_with_exposure = pd.merge(average_samples, average_samples_only_activ, on=['Country', 'Month', 'Activity_new'], how='left')"
   ]
  },
  {
   "cell_type": "code",
   "execution_count": 472,
   "metadata": {},
   "outputs": [
    {
     "data": {
      "text/html": [
       "<div>\n",
       "<style scoped>\n",
       "    .dataframe tbody tr th:only-of-type {\n",
       "        vertical-align: middle;\n",
       "    }\n",
       "\n",
       "    .dataframe tbody tr th {\n",
       "        vertical-align: top;\n",
       "    }\n",
       "\n",
       "    .dataframe thead th {\n",
       "        text-align: right;\n",
       "    }\n",
       "</style>\n",
       "<table border=\"1\" class=\"dataframe\">\n",
       "  <thead>\n",
       "    <tr style=\"text-align: right;\">\n",
       "      <th></th>\n",
       "      <th>Country</th>\n",
       "      <th>Month</th>\n",
       "      <th>Activity_new</th>\n",
       "      <th>Injuries_new</th>\n",
       "      <th>Type_new</th>\n",
       "      <th>occurence_per_month</th>\n",
       "      <th>average_samples_per_month</th>\n",
       "      <th>participants</th>\n",
       "    </tr>\n",
       "  </thead>\n",
       "  <tbody>\n",
       "    <tr>\n",
       "      <th>0</th>\n",
       "      <td>ATLANTIC OCEAN</td>\n",
       "      <td>Aug</td>\n",
       "      <td>Other</td>\n",
       "      <td>Fatal</td>\n",
       "      <td>Unprovoked</td>\n",
       "      <td>1.0</td>\n",
       "      <td>1.000</td>\n",
       "      <td>45</td>\n",
       "    </tr>\n",
       "    <tr>\n",
       "      <th>1</th>\n",
       "      <td>ATLANTIC OCEAN</td>\n",
       "      <td>Dec</td>\n",
       "      <td>Other</td>\n",
       "      <td>Fatal</td>\n",
       "      <td>Unprovoked</td>\n",
       "      <td>1.0</td>\n",
       "      <td>1.000</td>\n",
       "      <td>45</td>\n",
       "    </tr>\n",
       "    <tr>\n",
       "      <th>2</th>\n",
       "      <td>ATLANTIC OCEAN</td>\n",
       "      <td>Dec</td>\n",
       "      <td>Other</td>\n",
       "      <td>No injury</td>\n",
       "      <td>Unprovoked</td>\n",
       "      <td>1.0</td>\n",
       "      <td>1.000</td>\n",
       "      <td>45</td>\n",
       "    </tr>\n",
       "    <tr>\n",
       "      <th>3</th>\n",
       "      <td>ATLANTIC OCEAN</td>\n",
       "      <td>Feb</td>\n",
       "      <td>Other</td>\n",
       "      <td>No injury</td>\n",
       "      <td>Unprovoked</td>\n",
       "      <td>1.0</td>\n",
       "      <td>1.000</td>\n",
       "      <td>45</td>\n",
       "    </tr>\n",
       "    <tr>\n",
       "      <th>4</th>\n",
       "      <td>ATLANTIC OCEAN</td>\n",
       "      <td>Jan</td>\n",
       "      <td>Other</td>\n",
       "      <td>Fatal</td>\n",
       "      <td>Unprovoked</td>\n",
       "      <td>1.0</td>\n",
       "      <td>1.250</td>\n",
       "      <td>45</td>\n",
       "    </tr>\n",
       "    <tr>\n",
       "      <th>5</th>\n",
       "      <td>ATLANTIC OCEAN</td>\n",
       "      <td>Jan</td>\n",
       "      <td>Other</td>\n",
       "      <td>No injury</td>\n",
       "      <td>Unprovoked</td>\n",
       "      <td>2.0</td>\n",
       "      <td>1.250</td>\n",
       "      <td>45</td>\n",
       "    </tr>\n",
       "    <tr>\n",
       "      <th>6</th>\n",
       "      <td>ATLANTIC OCEAN</td>\n",
       "      <td>Jan</td>\n",
       "      <td>Other</td>\n",
       "      <td>Other Inury</td>\n",
       "      <td>Unprovoked</td>\n",
       "      <td>1.0</td>\n",
       "      <td>1.250</td>\n",
       "      <td>45</td>\n",
       "    </tr>\n",
       "    <tr>\n",
       "      <th>7</th>\n",
       "      <td>ATLANTIC OCEAN</td>\n",
       "      <td>Jul</td>\n",
       "      <td>Other</td>\n",
       "      <td>Fatal</td>\n",
       "      <td>Unprovoked</td>\n",
       "      <td>1.0</td>\n",
       "      <td>1.000</td>\n",
       "      <td>45</td>\n",
       "    </tr>\n",
       "    <tr>\n",
       "      <th>8</th>\n",
       "      <td>ATLANTIC OCEAN</td>\n",
       "      <td>Jun</td>\n",
       "      <td>Other</td>\n",
       "      <td>Fatal</td>\n",
       "      <td>Unprovoked</td>\n",
       "      <td>1.0</td>\n",
       "      <td>1.000</td>\n",
       "      <td>450</td>\n",
       "    </tr>\n",
       "    <tr>\n",
       "      <th>9</th>\n",
       "      <td>ATLANTIC OCEAN</td>\n",
       "      <td>Oct</td>\n",
       "      <td>Other</td>\n",
       "      <td>Fatal</td>\n",
       "      <td>Unprovoked</td>\n",
       "      <td>1.0</td>\n",
       "      <td>1.000</td>\n",
       "      <td>0</td>\n",
       "    </tr>\n",
       "    <tr>\n",
       "      <th>10</th>\n",
       "      <td>ATLANTIC OCEAN</td>\n",
       "      <td>Sep</td>\n",
       "      <td>Other</td>\n",
       "      <td>Other Inury</td>\n",
       "      <td>Unprovoked</td>\n",
       "      <td>1.0</td>\n",
       "      <td>1.000</td>\n",
       "      <td>450</td>\n",
       "    </tr>\n",
       "    <tr>\n",
       "      <th>11</th>\n",
       "      <td>ATLANTIC OCEAN</td>\n",
       "      <td>Sep</td>\n",
       "      <td>Swimming</td>\n",
       "      <td>Other Inury</td>\n",
       "      <td>Unprovoked</td>\n",
       "      <td>1.0</td>\n",
       "      <td>1.000</td>\n",
       "      <td>450000</td>\n",
       "    </tr>\n",
       "    <tr>\n",
       "      <th>12</th>\n",
       "      <td>AUSTRALIA</td>\n",
       "      <td>Apr</td>\n",
       "      <td>Diving</td>\n",
       "      <td>Fatal</td>\n",
       "      <td>Unprovoked</td>\n",
       "      <td>1.0</td>\n",
       "      <td>1.000</td>\n",
       "      <td>450</td>\n",
       "    </tr>\n",
       "    <tr>\n",
       "      <th>13</th>\n",
       "      <td>AUSTRALIA</td>\n",
       "      <td>Apr</td>\n",
       "      <td>Diving</td>\n",
       "      <td>Other Inury</td>\n",
       "      <td>Provoked</td>\n",
       "      <td>1.0</td>\n",
       "      <td>1.000</td>\n",
       "      <td>450</td>\n",
       "    </tr>\n",
       "    <tr>\n",
       "      <th>14</th>\n",
       "      <td>AUSTRALIA</td>\n",
       "      <td>Apr</td>\n",
       "      <td>Diving</td>\n",
       "      <td>Other Inury</td>\n",
       "      <td>Unprovoked</td>\n",
       "      <td>1.0</td>\n",
       "      <td>1.000</td>\n",
       "      <td>450</td>\n",
       "    </tr>\n",
       "    <tr>\n",
       "      <th>15</th>\n",
       "      <td>AUSTRALIA</td>\n",
       "      <td>Apr</td>\n",
       "      <td>Fishing</td>\n",
       "      <td>Fatal</td>\n",
       "      <td>Unprovoked</td>\n",
       "      <td>1.0</td>\n",
       "      <td>1.125</td>\n",
       "      <td>250000</td>\n",
       "    </tr>\n",
       "    <tr>\n",
       "      <th>16</th>\n",
       "      <td>AUSTRALIA</td>\n",
       "      <td>Apr</td>\n",
       "      <td>Fishing</td>\n",
       "      <td>Laceration</td>\n",
       "      <td>Provoked</td>\n",
       "      <td>1.0</td>\n",
       "      <td>1.125</td>\n",
       "      <td>250000</td>\n",
       "    </tr>\n",
       "    <tr>\n",
       "      <th>17</th>\n",
       "      <td>AUSTRALIA</td>\n",
       "      <td>Apr</td>\n",
       "      <td>Fishing</td>\n",
       "      <td>Laceration</td>\n",
       "      <td>Unprovoked</td>\n",
       "      <td>1.0</td>\n",
       "      <td>1.125</td>\n",
       "      <td>250000</td>\n",
       "    </tr>\n",
       "    <tr>\n",
       "      <th>18</th>\n",
       "      <td>AUSTRALIA</td>\n",
       "      <td>Apr</td>\n",
       "      <td>Fishing</td>\n",
       "      <td>No injury</td>\n",
       "      <td>Provoked</td>\n",
       "      <td>1.0</td>\n",
       "      <td>1.125</td>\n",
       "      <td>250000</td>\n",
       "    </tr>\n",
       "    <tr>\n",
       "      <th>19</th>\n",
       "      <td>AUSTRALIA</td>\n",
       "      <td>Apr</td>\n",
       "      <td>Fishing</td>\n",
       "      <td>No injury</td>\n",
       "      <td>Unprovoked</td>\n",
       "      <td>1.0</td>\n",
       "      <td>1.125</td>\n",
       "      <td>250000</td>\n",
       "    </tr>\n",
       "  </tbody>\n",
       "</table>\n",
       "</div>"
      ],
      "text/plain": [
       "           Country Month Activity_new Injuries_new    Type_new  \\\n",
       "0   ATLANTIC OCEAN   Aug        Other        Fatal  Unprovoked   \n",
       "1   ATLANTIC OCEAN   Dec        Other        Fatal  Unprovoked   \n",
       "2   ATLANTIC OCEAN   Dec        Other    No injury  Unprovoked   \n",
       "3   ATLANTIC OCEAN   Feb        Other    No injury  Unprovoked   \n",
       "4   ATLANTIC OCEAN   Jan        Other        Fatal  Unprovoked   \n",
       "5   ATLANTIC OCEAN   Jan        Other    No injury  Unprovoked   \n",
       "6   ATLANTIC OCEAN   Jan        Other  Other Inury  Unprovoked   \n",
       "7   ATLANTIC OCEAN   Jul        Other        Fatal  Unprovoked   \n",
       "8   ATLANTIC OCEAN   Jun        Other        Fatal  Unprovoked   \n",
       "9   ATLANTIC OCEAN   Oct        Other        Fatal  Unprovoked   \n",
       "10  ATLANTIC OCEAN   Sep        Other  Other Inury  Unprovoked   \n",
       "11  ATLANTIC OCEAN   Sep     Swimming  Other Inury  Unprovoked   \n",
       "12       AUSTRALIA   Apr       Diving        Fatal  Unprovoked   \n",
       "13       AUSTRALIA   Apr       Diving  Other Inury    Provoked   \n",
       "14       AUSTRALIA   Apr       Diving  Other Inury  Unprovoked   \n",
       "15       AUSTRALIA   Apr      Fishing        Fatal  Unprovoked   \n",
       "16       AUSTRALIA   Apr      Fishing   Laceration    Provoked   \n",
       "17       AUSTRALIA   Apr      Fishing   Laceration  Unprovoked   \n",
       "18       AUSTRALIA   Apr      Fishing    No injury    Provoked   \n",
       "19       AUSTRALIA   Apr      Fishing    No injury  Unprovoked   \n",
       "\n",
       "    occurence_per_month  average_samples_per_month  participants  \n",
       "0                   1.0                      1.000            45  \n",
       "1                   1.0                      1.000            45  \n",
       "2                   1.0                      1.000            45  \n",
       "3                   1.0                      1.000            45  \n",
       "4                   1.0                      1.250            45  \n",
       "5                   2.0                      1.250            45  \n",
       "6                   1.0                      1.250            45  \n",
       "7                   1.0                      1.000            45  \n",
       "8                   1.0                      1.000           450  \n",
       "9                   1.0                      1.000             0  \n",
       "10                  1.0                      1.000           450  \n",
       "11                  1.0                      1.000        450000  \n",
       "12                  1.0                      1.000           450  \n",
       "13                  1.0                      1.000           450  \n",
       "14                  1.0                      1.000           450  \n",
       "15                  1.0                      1.125        250000  \n",
       "16                  1.0                      1.125        250000  \n",
       "17                  1.0                      1.125        250000  \n",
       "18                  1.0                      1.125        250000  \n",
       "19                  1.0                      1.125        250000  "
      ]
     },
     "execution_count": 472,
     "metadata": {},
     "output_type": "execute_result"
    }
   ],
   "source": [
    "dataset_with_exposure.head(20)"
   ]
  },
  {
   "cell_type": "code",
   "execution_count": 473,
   "metadata": {},
   "outputs": [],
   "source": [
    "dataset_with_exposure.drop(columns=['average_samples_per_month'], inplace=True)"
   ]
  },
  {
   "cell_type": "code",
   "execution_count": 474,
   "metadata": {},
   "outputs": [],
   "source": [
    "dataset_with_exposure['Injuries_new'] = dataset_with_exposure['Injuries_new'].replace({'Other':'Other Injury'})"
   ]
  },
  {
   "cell_type": "code",
   "execution_count": 475,
   "metadata": {},
   "outputs": [],
   "source": [
    "days_in_month = {\n",
    "    'Jan': 31, 'Feb': 28, 'Mar': 31, 'Apr': 30, 'May': 31, 'Jun': 30,\n",
    "    'Jul': 31, 'Aug': 31, 'Sep': 30, 'Oct': 31, 'Nov': 30, 'Dec': 31\n",
    "}"
   ]
  },
  {
   "cell_type": "code",
   "execution_count": 476,
   "metadata": {},
   "outputs": [],
   "source": [
    "dataset_with_exposure['Days_in_Month'] = dataset_with_exposure['Month'].map(days_in_month)"
   ]
  },
  {
   "cell_type": "code",
   "execution_count": 477,
   "metadata": {},
   "outputs": [],
   "source": [
    "# Calculate exposure rate per day in a given month for a given activity times 100 to make it a percentage\n",
    "dataset_with_exposure['exposure_rate'] = ((dataset_with_exposure['occurence_per_month'] / dataset_with_exposure['Days_in_Month'] ) / dataset_with_exposure['participants']) * 100"
   ]
  },
  {
   "cell_type": "code",
   "execution_count": 478,
   "metadata": {},
   "outputs": [
    {
     "data": {
      "text/plain": [
       "np.int64(2)"
      ]
     },
     "execution_count": 478,
     "metadata": {},
     "output_type": "execute_result"
    }
   ],
   "source": [
    "dataset_with_exposure['exposure_rate'].isna().sum()"
   ]
  },
  {
   "cell_type": "code",
   "execution_count": 479,
   "metadata": {},
   "outputs": [
    {
     "name": "stderr",
     "output_type": "stream",
     "text": [
      "/var/folders/7m/q2yh5j193c5gf7sd2zd1g8pm0000gn/T/ipykernel_42804/1179671759.py:1: FutureWarning: A value is trying to be set on a copy of a DataFrame or Series through chained assignment using an inplace method.\n",
      "The behavior will change in pandas 3.0. This inplace method will never work because the intermediate object on which we are setting values always behaves as a copy.\n",
      "\n",
      "For example, when doing 'df[col].method(value, inplace=True)', try using 'df.method({col: value}, inplace=True)' or df[col] = df[col].method(value) instead, to perform the operation inplace on the original object.\n",
      "\n",
      "\n",
      "  dataset_with_exposure['exposure_rate'].fillna(0, inplace=True)\n"
     ]
    }
   ],
   "source": [
    "dataset_with_exposure['exposure_rate'].fillna(0, inplace=True)"
   ]
  },
  {
   "cell_type": "code",
   "execution_count": 571,
   "metadata": {},
   "outputs": [
    {
     "data": {
      "text/plain": [
       "Activity_new\n",
       "Other       524\n",
       "Fishing     439\n",
       "Swimming    384\n",
       "Diving      154\n",
       "Name: count, dtype: int64"
      ]
     },
     "execution_count": 571,
     "metadata": {},
     "output_type": "execute_result"
    }
   ],
   "source": [
    "dataset_with_exposure['Activity_new'].value_counts()"
   ]
  },
  {
   "cell_type": "code",
   "execution_count": 572,
   "metadata": {},
   "outputs": [
    {
     "data": {
      "text/html": [
       "<div>\n",
       "<style scoped>\n",
       "    .dataframe tbody tr th:only-of-type {\n",
       "        vertical-align: middle;\n",
       "    }\n",
       "\n",
       "    .dataframe tbody tr th {\n",
       "        vertical-align: top;\n",
       "    }\n",
       "\n",
       "    .dataframe thead th {\n",
       "        text-align: right;\n",
       "    }\n",
       "</style>\n",
       "<table border=\"1\" class=\"dataframe\">\n",
       "  <thead>\n",
       "    <tr style=\"text-align: right;\">\n",
       "      <th></th>\n",
       "      <th>Country</th>\n",
       "      <th>Month</th>\n",
       "      <th>Activity_new</th>\n",
       "      <th>Injuries_new</th>\n",
       "      <th>Type_new</th>\n",
       "      <th>occurence_per_month</th>\n",
       "      <th>participants</th>\n",
       "      <th>Days_in_Month</th>\n",
       "      <th>exposure_rate</th>\n",
       "    </tr>\n",
       "  </thead>\n",
       "  <tbody>\n",
       "    <tr>\n",
       "      <th>0</th>\n",
       "      <td>ATLANTIC OCEAN</td>\n",
       "      <td>Aug</td>\n",
       "      <td>Other</td>\n",
       "      <td>Fatal</td>\n",
       "      <td>Unprovoked</td>\n",
       "      <td>1.0</td>\n",
       "      <td>45</td>\n",
       "      <td>31.0</td>\n",
       "      <td>0.071685</td>\n",
       "    </tr>\n",
       "    <tr>\n",
       "      <th>1</th>\n",
       "      <td>ATLANTIC OCEAN</td>\n",
       "      <td>Dec</td>\n",
       "      <td>Other</td>\n",
       "      <td>Fatal</td>\n",
       "      <td>Unprovoked</td>\n",
       "      <td>1.0</td>\n",
       "      <td>45</td>\n",
       "      <td>31.0</td>\n",
       "      <td>0.071685</td>\n",
       "    </tr>\n",
       "    <tr>\n",
       "      <th>2</th>\n",
       "      <td>ATLANTIC OCEAN</td>\n",
       "      <td>Dec</td>\n",
       "      <td>Other</td>\n",
       "      <td>No injury</td>\n",
       "      <td>Unprovoked</td>\n",
       "      <td>1.0</td>\n",
       "      <td>45</td>\n",
       "      <td>31.0</td>\n",
       "      <td>0.071685</td>\n",
       "    </tr>\n",
       "    <tr>\n",
       "      <th>3</th>\n",
       "      <td>ATLANTIC OCEAN</td>\n",
       "      <td>Feb</td>\n",
       "      <td>Other</td>\n",
       "      <td>No injury</td>\n",
       "      <td>Unprovoked</td>\n",
       "      <td>1.0</td>\n",
       "      <td>45</td>\n",
       "      <td>28.0</td>\n",
       "      <td>0.079365</td>\n",
       "    </tr>\n",
       "    <tr>\n",
       "      <th>4</th>\n",
       "      <td>ATLANTIC OCEAN</td>\n",
       "      <td>Jan</td>\n",
       "      <td>Other</td>\n",
       "      <td>Fatal</td>\n",
       "      <td>Unprovoked</td>\n",
       "      <td>1.0</td>\n",
       "      <td>45</td>\n",
       "      <td>31.0</td>\n",
       "      <td>0.071685</td>\n",
       "    </tr>\n",
       "  </tbody>\n",
       "</table>\n",
       "</div>"
      ],
      "text/plain": [
       "          Country Month Activity_new Injuries_new    Type_new  \\\n",
       "0  ATLANTIC OCEAN   Aug        Other        Fatal  Unprovoked   \n",
       "1  ATLANTIC OCEAN   Dec        Other        Fatal  Unprovoked   \n",
       "2  ATLANTIC OCEAN   Dec        Other    No injury  Unprovoked   \n",
       "3  ATLANTIC OCEAN   Feb        Other    No injury  Unprovoked   \n",
       "4  ATLANTIC OCEAN   Jan        Other        Fatal  Unprovoked   \n",
       "\n",
       "   occurence_per_month  participants  Days_in_Month  exposure_rate  \n",
       "0                  1.0            45           31.0       0.071685  \n",
       "1                  1.0            45           31.0       0.071685  \n",
       "2                  1.0            45           31.0       0.071685  \n",
       "3                  1.0            45           28.0       0.079365  \n",
       "4                  1.0            45           31.0       0.071685  "
      ]
     },
     "execution_count": 572,
     "metadata": {},
     "output_type": "execute_result"
    }
   ],
   "source": [
    "dataset_with_exposure_for_db = dataset_with_exposure.copy()\n",
    "dataset_with_exposure_for_db.drop(columns=['participants', 'Days'], inplace=True)"
   ]
  },
  {
   "cell_type": "code",
   "execution_count": 511,
   "metadata": {},
   "outputs": [],
   "source": [
    "dataset_with_exposure_dummies = pd.get_dummies(dataset_with_exposure, columns=['Month'], prefix='Month')"
   ]
  },
  {
   "cell_type": "code",
   "execution_count": 512,
   "metadata": {},
   "outputs": [],
   "source": [
    "dataset_with_exposure_dummies = pd.get_dummies(dataset_with_exposure_dummies, columns=['Activity_new'], prefix='Activity')\n",
    "dataset_with_exposure_dummies = pd.get_dummies(dataset_with_exposure_dummies, columns=['Injuries_new'], prefix='Injuries')\n",
    "dataset_with_exposure_dummies = pd.get_dummies(dataset_with_exposure_dummies, columns=['Type_new'], prefix='Type')\n",
    "dataset_with_exposure_dummies = pd.get_dummies(dataset_with_exposure_dummies, columns=['Country'])"
   ]
  },
  {
   "cell_type": "code",
   "execution_count": 514,
   "metadata": {},
   "outputs": [
    {
     "data": {
      "text/html": [
       "<div>\n",
       "<style scoped>\n",
       "    .dataframe tbody tr th:only-of-type {\n",
       "        vertical-align: middle;\n",
       "    }\n",
       "\n",
       "    .dataframe tbody tr th {\n",
       "        vertical-align: top;\n",
       "    }\n",
       "\n",
       "    .dataframe thead th {\n",
       "        text-align: right;\n",
       "    }\n",
       "</style>\n",
       "<table border=\"1\" class=\"dataframe\">\n",
       "  <thead>\n",
       "    <tr style=\"text-align: right;\">\n",
       "      <th></th>\n",
       "      <th>occurence_per_month</th>\n",
       "      <th>participants</th>\n",
       "      <th>Days_in_Month</th>\n",
       "      <th>exposure_rate</th>\n",
       "      <th>Month_Apr</th>\n",
       "      <th>Month_Aug</th>\n",
       "      <th>Month_Dec</th>\n",
       "      <th>Month_Feb</th>\n",
       "      <th>Month_Jan</th>\n",
       "      <th>Month_Jul</th>\n",
       "      <th>...</th>\n",
       "      <th>Country_SOUTH ATLANTIC OCEAN</th>\n",
       "      <th>Country_SPAIN</th>\n",
       "      <th>Country_SRI LANKA</th>\n",
       "      <th>Country_TONGA</th>\n",
       "      <th>Country_TURKEY</th>\n",
       "      <th>Country_UNITED KINGDOM</th>\n",
       "      <th>Country_USA</th>\n",
       "      <th>Country_VANUATU</th>\n",
       "      <th>Country_VENEZUELA</th>\n",
       "      <th>Country_VIETNAM</th>\n",
       "    </tr>\n",
       "  </thead>\n",
       "  <tbody>\n",
       "    <tr>\n",
       "      <th>0</th>\n",
       "      <td>1.0</td>\n",
       "      <td>45</td>\n",
       "      <td>31.0</td>\n",
       "      <td>0.071685</td>\n",
       "      <td>False</td>\n",
       "      <td>True</td>\n",
       "      <td>False</td>\n",
       "      <td>False</td>\n",
       "      <td>False</td>\n",
       "      <td>False</td>\n",
       "      <td>...</td>\n",
       "      <td>False</td>\n",
       "      <td>False</td>\n",
       "      <td>False</td>\n",
       "      <td>False</td>\n",
       "      <td>False</td>\n",
       "      <td>False</td>\n",
       "      <td>False</td>\n",
       "      <td>False</td>\n",
       "      <td>False</td>\n",
       "      <td>False</td>\n",
       "    </tr>\n",
       "    <tr>\n",
       "      <th>1</th>\n",
       "      <td>1.0</td>\n",
       "      <td>45</td>\n",
       "      <td>31.0</td>\n",
       "      <td>0.071685</td>\n",
       "      <td>False</td>\n",
       "      <td>False</td>\n",
       "      <td>True</td>\n",
       "      <td>False</td>\n",
       "      <td>False</td>\n",
       "      <td>False</td>\n",
       "      <td>...</td>\n",
       "      <td>False</td>\n",
       "      <td>False</td>\n",
       "      <td>False</td>\n",
       "      <td>False</td>\n",
       "      <td>False</td>\n",
       "      <td>False</td>\n",
       "      <td>False</td>\n",
       "      <td>False</td>\n",
       "      <td>False</td>\n",
       "      <td>False</td>\n",
       "    </tr>\n",
       "    <tr>\n",
       "      <th>2</th>\n",
       "      <td>1.0</td>\n",
       "      <td>45</td>\n",
       "      <td>31.0</td>\n",
       "      <td>0.071685</td>\n",
       "      <td>False</td>\n",
       "      <td>False</td>\n",
       "      <td>True</td>\n",
       "      <td>False</td>\n",
       "      <td>False</td>\n",
       "      <td>False</td>\n",
       "      <td>...</td>\n",
       "      <td>False</td>\n",
       "      <td>False</td>\n",
       "      <td>False</td>\n",
       "      <td>False</td>\n",
       "      <td>False</td>\n",
       "      <td>False</td>\n",
       "      <td>False</td>\n",
       "      <td>False</td>\n",
       "      <td>False</td>\n",
       "      <td>False</td>\n",
       "    </tr>\n",
       "    <tr>\n",
       "      <th>3</th>\n",
       "      <td>1.0</td>\n",
       "      <td>45</td>\n",
       "      <td>28.0</td>\n",
       "      <td>0.079365</td>\n",
       "      <td>False</td>\n",
       "      <td>False</td>\n",
       "      <td>False</td>\n",
       "      <td>True</td>\n",
       "      <td>False</td>\n",
       "      <td>False</td>\n",
       "      <td>...</td>\n",
       "      <td>False</td>\n",
       "      <td>False</td>\n",
       "      <td>False</td>\n",
       "      <td>False</td>\n",
       "      <td>False</td>\n",
       "      <td>False</td>\n",
       "      <td>False</td>\n",
       "      <td>False</td>\n",
       "      <td>False</td>\n",
       "      <td>False</td>\n",
       "    </tr>\n",
       "    <tr>\n",
       "      <th>4</th>\n",
       "      <td>1.0</td>\n",
       "      <td>45</td>\n",
       "      <td>31.0</td>\n",
       "      <td>0.071685</td>\n",
       "      <td>False</td>\n",
       "      <td>False</td>\n",
       "      <td>False</td>\n",
       "      <td>False</td>\n",
       "      <td>True</td>\n",
       "      <td>False</td>\n",
       "      <td>...</td>\n",
       "      <td>False</td>\n",
       "      <td>False</td>\n",
       "      <td>False</td>\n",
       "      <td>False</td>\n",
       "      <td>False</td>\n",
       "      <td>False</td>\n",
       "      <td>False</td>\n",
       "      <td>False</td>\n",
       "      <td>False</td>\n",
       "      <td>False</td>\n",
       "    </tr>\n",
       "  </tbody>\n",
       "</table>\n",
       "<p>5 rows × 77 columns</p>\n",
       "</div>"
      ],
      "text/plain": [
       "   occurence_per_month  participants  Days_in_Month  exposure_rate  Month_Apr  \\\n",
       "0                  1.0            45           31.0       0.071685      False   \n",
       "1                  1.0            45           31.0       0.071685      False   \n",
       "2                  1.0            45           31.0       0.071685      False   \n",
       "3                  1.0            45           28.0       0.079365      False   \n",
       "4                  1.0            45           31.0       0.071685      False   \n",
       "\n",
       "   Month_Aug  Month_Dec  Month_Feb  Month_Jan  Month_Jul  ...  \\\n",
       "0       True      False      False      False      False  ...   \n",
       "1      False       True      False      False      False  ...   \n",
       "2      False       True      False      False      False  ...   \n",
       "3      False      False       True      False      False  ...   \n",
       "4      False      False      False       True      False  ...   \n",
       "\n",
       "   Country_SOUTH ATLANTIC OCEAN  Country_SPAIN  Country_SRI LANKA  \\\n",
       "0                         False          False              False   \n",
       "1                         False          False              False   \n",
       "2                         False          False              False   \n",
       "3                         False          False              False   \n",
       "4                         False          False              False   \n",
       "\n",
       "   Country_TONGA  Country_TURKEY  Country_UNITED KINGDOM  Country_USA  \\\n",
       "0          False           False                   False        False   \n",
       "1          False           False                   False        False   \n",
       "2          False           False                   False        False   \n",
       "3          False           False                   False        False   \n",
       "4          False           False                   False        False   \n",
       "\n",
       "   Country_VANUATU  Country_VENEZUELA  Country_VIETNAM  \n",
       "0            False              False            False  \n",
       "1            False              False            False  \n",
       "2            False              False            False  \n",
       "3            False              False            False  \n",
       "4            False              False            False  \n",
       "\n",
       "[5 rows x 77 columns]"
      ]
     },
     "execution_count": 514,
     "metadata": {},
     "output_type": "execute_result"
    }
   ],
   "source": [
    "dataset_with_exposure_dummies.head()"
   ]
  },
  {
   "cell_type": "code",
   "execution_count": 515,
   "metadata": {},
   "outputs": [],
   "source": [
    "dataset_with_exposure_dummies.drop(columns=['Days_in_Month', 'participants'], inplace=True)"
   ]
  },
  {
   "cell_type": "code",
   "execution_count": 564,
   "metadata": {},
   "outputs": [],
   "source": [
    "dataset_with_exposure_dummies.to_csv('shark_data_cleaned.csv')"
   ]
  },
  {
   "cell_type": "markdown",
   "metadata": {},
   "source": [
    "# Training the Model"
   ]
  },
  {
   "cell_type": "markdown",
   "metadata": {},
   "source": [
    "Since we already have the approcimate probabilities in the exposure rate column we can consider those as the target variable. The exposure rate has been constructed by taking the monthly average over all years of the number of people doing a particular activity, in a certain location, who suffered an injury and an attack type and divided it by the the monthly average over all years of the number of people doing a particular activity, in a certain location times 100."
   ]
  },
  {
   "cell_type": "code",
   "execution_count": 516,
   "metadata": {},
   "outputs": [],
   "source": [
    "y = dataset_with_exposure_dummies['exposure_rate']\n",
    "y.replace([np.inf, -np.inf], 0, inplace=True)\n",
    "X = dataset_with_exposure_dummies.drop(columns=['occurence_per_month', 'exposure_rate'])"
   ]
  },
  {
   "cell_type": "code",
   "execution_count": null,
   "metadata": {},
   "outputs": [],
   "source": [
    "X_train, X_test, y_train, y_test = train_test_split(X, y, test_size=0.2, random_state=42)"
   ]
  },
  {
   "cell_type": "code",
   "execution_count": 580,
   "metadata": {},
   "outputs": [],
   "source": [
    "import pandas as pd\n",
    "import numpy as np\n",
    "from sklearn.ensemble import AdaBoostRegressor\n",
    "from sklearn.linear_model import LinearRegression\n",
    "from sklearn.metrics import mean_squared_error, r2_score, mean_absolute_error\n",
    "import matplotlib.pyplot as plt\n",
    "from sklearn.model_selection import GridSearchCV\n",
    "from sklearn.ensemble import AdaBoostRegressor\n",
    "from sklearn.tree import DecisionTreeRegressor\n",
    "\n",
    "class SharkAttackRatePredictor:\n",
    "    def __init__(self, model_type='adaboost', estimators=100, learning_rate=0.1, max_depth=3):\n",
    "        if model_type == 'adaboost':\n",
    "            self.model = AdaBoostRegressor(\n",
    "                n_estimators=estimators,\n",
    "                learning_rate=learning_rate,\n",
    "                random_state=42,\n",
    "                estimator=DecisionTreeRegressor(max_depth=max_depth),\n",
    "            )\n",
    "        elif model_type == 'linear':\n",
    "            self.model = LinearRegression()\n",
    "        else:\n",
    "            raise ValueError(\"model_type must be 'adaboost' or 'linear'\")\n",
    "            \n",
    "        self.feature_names = None\n",
    "    \n",
    "    def fit(self, X, y):\n",
    "        \"\"\"\n",
    "        Fit model on prepared data\n",
    "        \"\"\"\n",
    "        self.model.fit(X, y)\n",
    "        self.feature_names = X.columns\n",
    "        return self\n",
    "    \n",
    "    def predict(self, new_data):\n",
    "        \"\"\"\n",
    "        Make predictions for new data\n",
    "        \"\"\"\n",
    "        return self.model.predict(new_data)\n",
    "    \n",
    "    def evaluate(self, X_test, y_test):\n",
    "        \"\"\"\n",
    "        Evaluate model performance\n",
    "        \"\"\"\n",
    "        y_pred = self.model.predict(X_test)\n",
    "        mse = mean_squared_error(y_test, y_pred)\n",
    "        mae = mean_absolute_error(y_test, y_pred)\n",
    "        r2 = r2_score(y_test, y_pred)\n",
    "        \n",
    "        return {\n",
    "            'mse': mse,\n",
    "            'rmse': np.sqrt(mse),\n",
    "            'r2': r2,\n",
    "            'mae': mae\n",
    "        }\n",
    "    \n",
    "    def plot_feature_importance(self):\n",
    "        \"\"\"\n",
    "        Plot feature importance (for AdaBoost)\n",
    "        \"\"\"\n",
    "        if isinstance(self.model, AdaBoostRegressor):\n",
    "            importance = pd.DataFrame({\n",
    "                'feature': self.feature_names,\n",
    "                'importance': self.model.feature_importances_\n",
    "            })\n",
    "            importance = importance.sort_values('importance', ascending=False)\n",
    "            \n",
    "            plt.figure(figsize=(10, 6))\n",
    "            plt.bar(importance['feature'][:15], importance['importance'][:15])\n",
    "            plt.xticks(rotation=45, ha='right')\n",
    "            plt.title('Feature Importance')\n",
    "            plt.tight_layout()\n",
    "            plt.show()"
   ]
  },
  {
   "cell_type": "code",
   "execution_count": 550,
   "metadata": {},
   "outputs": [
    {
     "name": "stdout",
     "output_type": "stream",
     "text": [
      "AdaBoost Metrics: {'mse': np.float64(0.002768818907275642), 'rmse': np.float64(0.052619567722242286), 'r2': -0.30654954165615655, 'mae': np.float64(0.02801375326975139)}\n",
      "Linear Regression Metrics: {'mse': np.float64(0.0021493499025771225), 'rmse': np.float64(0.0463610817666836), 'r2': -0.014234669768989239, 'mae': np.float64(0.02016061515902932)}\n"
     ]
    },
    {
     "data": {
      "image/png": "[encoded data removed]",
      "text/plain": [
       "<Figure size 1000x600 with 1 Axes>"
      ]
     },
     "metadata": {},
     "output_type": "display_data"
    }
   ],
   "source": [
    "ada_model = SharkAttackRatePredictor(model_type='adaboost')\n",
    "ada_model.fit(X_train, y_train)\n",
    "ada_metrics = ada_model.evaluate(X_test, y_test)\n",
    "\n",
    "# Train and evaluate Linear Regression\n",
    "lr_model = SharkAttackRatePredictor(model_type='linear')\n",
    "lr_model.fit(X_train, y_train)\n",
    "lr_metrics = lr_model.evaluate(X_test, y_test)\n",
    "\n",
    "print(\"AdaBoost Metrics:\", ada_metrics)\n",
    "print(\"Linear Regression Metrics:\", lr_metrics)\n",
    "\n",
    "# Plot feature importance for AdaBoost\n",
    "ada_model.plot_feature_importance()"
   ]
  },
  {
   "cell_type": "code",
   "execution_count": 551,
   "metadata": {},
   "outputs": [],
   "source": [
    "\n",
    "import pandas as pd\n",
    "import numpy as np\n",
    "\n",
    "def grid_search_adaboost(X, y):\n",
    "    # Define parameter grid\n",
    "    param_grid = {\n",
    "        'n_estimators': [50, 100, 200, 300],\n",
    "        'learning_rate': [0.01, 0.1, 0.5, 1.0],\n",
    "        'estimator': [\n",
    "            DecisionTreeRegressor(max_depth=1),\n",
    "            DecisionTreeRegressor(max_depth=2),\n",
    "            DecisionTreeRegressor(max_depth=3)\n",
    "        ]\n",
    "    }\n",
    "    \n",
    "    # Initialize AdaBoost\n",
    "    ada = AdaBoostRegressor(random_state=42)\n",
    "    \n",
    "    # Perform grid search\n",
    "    grid_search = GridSearchCV(\n",
    "        ada, \n",
    "        param_grid, \n",
    "        cv=5, \n",
    "        scoring='neg_mean_squared_error',\n",
    "        n_jobs=-1\n",
    "    )\n",
    "    \n",
    "    grid_search.fit(X, y)\n",
    "    \n",
    "    # Get results\n",
    "    results = pd.DataFrame(grid_search.cv_results_)\n",
    "    best_params = grid_search.best_params_\n",
    "    best_score = grid_search.best_score_\n",
    "    \n",
    "    return best_params, best_score, results"
   ]
  },
  {
   "cell_type": "code",
   "execution_count": 552,
   "metadata": {},
   "outputs": [
    {
     "name": "stdout",
     "output_type": "stream",
     "text": [
      "Best Parameters: {'estimator': DecisionTreeRegressor(max_depth=3), 'learning_rate': 0.01, 'n_estimators': 200}\n",
      "Best Score (negative MSE): -0.003051707068981886\n",
      "\n",
      "Top 5 Parameter Combinations:\n",
      "                                               params  mean_test_score  \\\n",
      "34  {'estimator': DecisionTreeRegressor(max_depth=...        -0.003052   \n",
      "35  {'estimator': DecisionTreeRegressor(max_depth=...        -0.003053   \n",
      "17  {'estimator': DecisionTreeRegressor(max_depth=...        -0.003057   \n",
      "16  {'estimator': DecisionTreeRegressor(max_depth=...        -0.003058   \n",
      "33  {'estimator': DecisionTreeRegressor(max_depth=...        -0.003059   \n",
      "\n",
      "    std_test_score  \n",
      "34        0.003870  \n",
      "35        0.003839  \n",
      "17        0.003885  \n",
      "16        0.003896  \n",
      "33        0.003897  \n"
     ]
    }
   ],
   "source": [
    "# Quick grid search on ADA\n",
    "best_params, best_score, results = grid_search_adaboost(X, y)\n",
    "    \n",
    "print(\"Best Parameters:\", best_params)\n",
    "print(\"Best Score (negative MSE):\", best_score)\n",
    "\n",
    "# Display top 5 parameter combinations\n",
    "top_results = results.nlargest(5, 'mean_test_score')[\n",
    "    ['params', 'mean_test_score', 'std_test_score']\n",
    "]\n",
    "print(\"\\nTop 5 Parameter Combinations:\")\n",
    "print(top_results)"
   ]
  },
  {
   "cell_type": "code",
   "execution_count": 562,
   "metadata": {},
   "outputs": [],
   "source": [
    "import pandas as pd\n",
    "import numpy as np\n",
    "from sklearn.ensemble import RandomForestRegressor, GradientBoostingRegressor\n",
    "from sklearn.svm import SVR\n",
    "from sklearn.model_selection import cross_val_score\n",
    "from sklearn.metrics import mean_squared_error, r2_score\n",
    "\n",
    "class ModelComparison:\n",
    "    def __init__(self):\n",
    "        self.models = {\n",
    "            'Random Forest': RandomForestRegressor(\n",
    "                n_estimators=100,\n",
    "                random_state=42\n",
    "            ),\n",
    "            'Gradient Boosting': GradientBoostingRegressor(\n",
    "                n_estimators=100,\n",
    "                random_state=42\n",
    "            ),\n",
    "            'SVR': SVR(\n",
    "                kernel='rbf'\n",
    "            ),\n",
    "            'AdaBoostRegressor': AdaBoostRegressor(\n",
    "                n_estimators=200,\n",
    "                learning_rate=0.01,\n",
    "                random_state=42,\n",
    "                estimator=DecisionTreeRegressor(max_depth=3),\n",
    "            ),\n",
    "            'Linear Regression': LinearRegression()\n",
    "            \n",
    "        }\n",
    "        self.results = {}\n",
    "        \n",
    "    def compare_models(self, X, y):\n",
    "        \"\"\"Compare all models using cross-validation\"\"\"\n",
    "        for name, model in self.models.items():\n",
    "            scores = cross_val_score(\n",
    "                model,\n",
    "                X, y,\n",
    "                cv=5,\n",
    "                scoring='neg_mean_squared_error'\n",
    "            )\n",
    "            rmse_scores = np.sqrt(-scores)\n",
    "            self.results[name] = {\n",
    "                'mean_rmse': rmse_scores.mean(),\n",
    "                'std_rmse': rmse_scores.std(),\n",
    "            }\n",
    "            \n",
    "        return pd.DataFrame(self.results).T\n",
    "    \n",
    "    def fit_best_model(self, X_train, y_train, X_test, y_test):\n",
    "        \"\"\"Fit and evaluate best performing model\"\"\"\n",
    "        best_model_name = min(\n",
    "            self.results.items(),\n",
    "            key=lambda x: x[1]['mean_rmse']\n",
    "        )[0]\n",
    "        \n",
    "        model = self.models[best_model_name]\n",
    "        model.fit(X_train, y_train)\n",
    "        \n",
    "        y_pred = model.predict(X_test)\n",
    "        rmse = np.sqrt(mean_squared_error(y_test, y_pred))\n",
    "        r2 = r2_score(y_test, y_pred)\n",
    "        mae = mean_absolute_error(y_test, y_pred)\n",
    "        \n",
    "        return {\n",
    "            'model_name': best_model_name,\n",
    "            'rmse': rmse,\n",
    "            'r2': r2,\n",
    "            'mae': mae,\n",
    "            'model': model\n",
    "        }"
   ]
  },
  {
   "cell_type": "code",
   "execution_count": 563,
   "metadata": {},
   "outputs": [
    {
     "name": "stdout",
     "output_type": "stream",
     "text": [
      "\n",
      "Model Comparison Results:\n",
      "                      mean_rmse      std_rmse\n",
      "Random Forest      4.854106e-02  2.999493e-02\n",
      "Gradient Boosting  4.760037e-02  2.935996e-02\n",
      "SVR                6.294658e-02  2.252140e-02\n",
      "AdaBoostRegressor  4.669438e-02  2.951850e-02\n",
      "Linear Regression  4.237710e+11  5.490818e+11\n",
      "\n",
      "Best Model Results:\n",
      "Model: AdaBoostRegressor\n",
      "RMSE: 0.046022\n",
      "R²: 0.001\n"
     ]
    }
   ],
   "source": [
    "comparison = ModelComparison()\n",
    "results = comparison.compare_models(X, y)\n",
    "print(\"\\nModel Comparison Results:\")\n",
    "print(results)\n",
    "\n",
    "# Fit best model\n",
    "best_model_results = comparison.fit_best_model(\n",
    "    X_train, y_train, X_test, y_test\n",
    ")\n",
    "print(\"\\nBest Model Results:\")\n",
    "print(f\"Model: {best_model_results['model_name']}\")\n",
    "print(f\"RMSE: {best_model_results['rmse']:.6f}\")\n",
    "print(f\"R²: {best_model_results['r2']:.3f}\")"
   ]
  },
  {
   "cell_type": "code",
   "execution_count": null,
   "metadata": {},
   "outputs": [
    {
     "name": "stdout",
     "output_type": "stream",
     "text": [
      "AdaBoost Metrics: {'mse': np.float64(0.002118023101857949), 'rmse': np.float64(0.046021984983896), 'r2': 0.0005478127594412685, 'mae': np.float64(0.01801672108260128)}\n"
     ]
    }
   ],
   "source": [
    "#Final training of AdaBoost model\n",
    "ada_model = SharkAttackRatePredictor(model_type='adaboost', estimators=200, learning_rate=0.01, max_depth=3)\n",
    "ada_model.fit(X_train, y_train)\n",
    "ada_metrics = ada_model.evaluate(X_test, y_test)\n",
    "print(\"AdaBoost Metrics:\", ada_metrics)"
   ]
  },
  {
   "cell_type": "code",
   "execution_count": null,
   "metadata": {},
   "outputs": [],
   "source": [
    "#Save the adaboost model to pickle \n",
    "with open('trained_adaboost.pkl', 'wb') as f:\n",
    "    pickle.dump(ada_model, f)"
   ]
  }
 ],
 "metadata": {
  "kernelspec": {
   "display_name": "shark-attack",
   "language": "python",
   "name": "python3"
  },
  "language_info": {
   "codemirror_mode": {
    "name": "ipython",
    "version": 3
   },
   "file_extension": ".py",
   "mimetype": "text/x-python",
   "name": "python",
   "nbconvert_exporter": "python",
   "pygments_lexer": "ipython3",
   "version": "3.12.7"
  }
 },
 "nbformat": 4,
 "nbformat_minor": 2
}
